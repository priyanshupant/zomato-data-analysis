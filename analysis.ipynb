{
 "cells": [
  {
   "cell_type": "markdown",
   "id": "1b6788e6",
   "metadata": {},
   "source": [
    "## Task To Accomplish:\n",
    "- Formulate ten research questions based on the dataset //\n",
    "- Write code to display the shape of the dataset (number of rows and columns). //\n",
    "- Identify and handle missing values using an appropriate imputation technique. //\n",
    "- Implement a code segment that utilizes conditional statements to filter, select, or transform data based on specific conditions. //\n",
    "- Write two code implementations that utilize loops to iterate over the dataset, performing a specific task or calculation. One of the implementations should include the use of the break or continue statement. //\n",
    "- Define at least two functions that operate on the dataset. One of the functions should utilize keyword arguments for flexible parameter passing. //\n",
    "- At least one code segment that focuses on data visualization using a suitable library such as Matplotlib or Seaborn. Generate visualizations to represent patterns, trends, or relationships in the dataset.//\n",
    "- At least one code segment that demonstrates the use of Numpy functions for numerical calculations or manipulations on the dataset.//\n",
    "- At least one code segment that showcases the use of Pandas functions for data manipulation, analysis, or aggregation on the dataset.\n",
    "\n",
    "### Data Set Used: https://www.kaggle.com/datasets/himanshupoddar/zomato-bangalore-restaurants \n"
   ]
  },
  {
   "cell_type": "markdown",
   "id": "09ae5f8a",
   "metadata": {},
   "source": [
    "# 10 Research Questions Based on Dataset:\n",
    "\n",
    "1. What is the average rating of the restaurants and the average cost for two plates?\n",
    "2. Which locations have the most and least number of restaurants?\n",
    "3. How many restaurants have online order and book table facilities?\n",
    "4. Does having an online-order facility or book-table facility affect the ratings?\n",
    "5. What is the best place to open an online-service restaurant?\n",
    "6. Which are the most common cuisine?\n",
    "7. Which type of restaurants have max ratings?\n",
    "8. In what places people are more interested in voting?\n",
    "9. Is there a relationship between the number of votes a restaurant receives and its rating?\n",
    "10.  Is there a relationship between the average cost for two and the votes/ratings a restaurant receives?\n",
    "\n",
    "**Task Accomplished: Formulate ten research questions based on the dataset.**\n"
   ]
  },
  {
   "cell_type": "markdown",
   "id": "e12c93e3",
   "metadata": {},
   "source": [
    "### Pre-Analysis Preparation:\n",
    "\n",
    "* Importing Neccessary Libraries\n",
    "* Importing The Data File "
   ]
  },
  {
   "cell_type": "code",
   "execution_count": 22,
   "id": "1a6f0c99",
   "metadata": {},
   "outputs": [],
   "source": [
    "#Importing Libraries\n",
    "import pandas as pd\n",
    "import numpy as np\n",
    "import matplotlib.pyplot as plt\n",
    "import seaborn as sns"
   ]
  },
  {
   "cell_type": "code",
   "execution_count": 23,
   "id": "865beee6",
   "metadata": {},
   "outputs": [],
   "source": [
    "# Importing the data CSV file\n",
    "df = pd.read_csv('zomato.csv')"
   ]
  },
  {
   "cell_type": "markdown",
   "id": "ee2c6384",
   "metadata": {},
   "source": [
    "# Previewing the data\n",
    "* Getting a preview of what of how the dataset looks like.\n",
    "* Identifying number of rows and columns\n"
   ]
  },
  {
   "cell_type": "code",
   "execution_count": 24,
   "id": "a4e9635d",
   "metadata": {},
   "outputs": [
    {
     "data": {
      "text/html": [
       "<div>\n",
       "<style scoped>\n",
       "    .dataframe tbody tr th:only-of-type {\n",
       "        vertical-align: middle;\n",
       "    }\n",
       "\n",
       "    .dataframe tbody tr th {\n",
       "        vertical-align: top;\n",
       "    }\n",
       "\n",
       "    .dataframe thead th {\n",
       "        text-align: right;\n",
       "    }\n",
       "</style>\n",
       "<table border=\"1\" class=\"dataframe\">\n",
       "  <thead>\n",
       "    <tr style=\"text-align: right;\">\n",
       "      <th></th>\n",
       "      <th>url</th>\n",
       "      <th>address</th>\n",
       "      <th>name</th>\n",
       "      <th>online_order</th>\n",
       "      <th>book_table</th>\n",
       "      <th>rate</th>\n",
       "      <th>votes</th>\n",
       "      <th>phone</th>\n",
       "      <th>location</th>\n",
       "      <th>rest_type</th>\n",
       "      <th>dish_liked</th>\n",
       "      <th>cuisines</th>\n",
       "      <th>approx_cost(for two people)</th>\n",
       "      <th>reviews_list</th>\n",
       "      <th>menu_item</th>\n",
       "      <th>listed_in(type)</th>\n",
       "      <th>listed_in(city)</th>\n",
       "    </tr>\n",
       "  </thead>\n",
       "  <tbody>\n",
       "    <tr>\n",
       "      <th>0</th>\n",
       "      <td>https://www.zomato.com/bangalore/jalsa-banasha...</td>\n",
       "      <td>942, 21st Main Road, 2nd Stage, Banashankari, ...</td>\n",
       "      <td>Jalsa</td>\n",
       "      <td>Yes</td>\n",
       "      <td>Yes</td>\n",
       "      <td>4.1/5</td>\n",
       "      <td>775</td>\n",
       "      <td>080 42297555\\r\\n+91 9743772233</td>\n",
       "      <td>Banashankari</td>\n",
       "      <td>Casual Dining</td>\n",
       "      <td>Pasta, Lunch Buffet, Masala Papad, Paneer Laja...</td>\n",
       "      <td>North Indian, Mughlai, Chinese</td>\n",
       "      <td>800</td>\n",
       "      <td>[('Rated 4.0', 'RATED\\n  A beautiful place to ...</td>\n",
       "      <td>[]</td>\n",
       "      <td>Buffet</td>\n",
       "      <td>Banashankari</td>\n",
       "    </tr>\n",
       "    <tr>\n",
       "      <th>1</th>\n",
       "      <td>https://www.zomato.com/bangalore/spice-elephan...</td>\n",
       "      <td>2nd Floor, 80 Feet Road, Near Big Bazaar, 6th ...</td>\n",
       "      <td>Spice Elephant</td>\n",
       "      <td>Yes</td>\n",
       "      <td>No</td>\n",
       "      <td>4.1/5</td>\n",
       "      <td>787</td>\n",
       "      <td>080 41714161</td>\n",
       "      <td>Banashankari</td>\n",
       "      <td>Casual Dining</td>\n",
       "      <td>Momos, Lunch Buffet, Chocolate Nirvana, Thai G...</td>\n",
       "      <td>Chinese, North Indian, Thai</td>\n",
       "      <td>800</td>\n",
       "      <td>[('Rated 4.0', 'RATED\\n  Had been here for din...</td>\n",
       "      <td>[]</td>\n",
       "      <td>Buffet</td>\n",
       "      <td>Banashankari</td>\n",
       "    </tr>\n",
       "    <tr>\n",
       "      <th>2</th>\n",
       "      <td>https://www.zomato.com/SanchurroBangalore?cont...</td>\n",
       "      <td>1112, Next to KIMS Medical College, 17th Cross...</td>\n",
       "      <td>San Churro Cafe</td>\n",
       "      <td>Yes</td>\n",
       "      <td>No</td>\n",
       "      <td>3.8/5</td>\n",
       "      <td>918</td>\n",
       "      <td>+91 9663487993</td>\n",
       "      <td>Banashankari</td>\n",
       "      <td>Cafe, Casual Dining</td>\n",
       "      <td>Churros, Cannelloni, Minestrone Soup, Hot Choc...</td>\n",
       "      <td>Cafe, Mexican, Italian</td>\n",
       "      <td>800</td>\n",
       "      <td>[('Rated 3.0', \"RATED\\n  Ambience is not that ...</td>\n",
       "      <td>[]</td>\n",
       "      <td>Buffet</td>\n",
       "      <td>Banashankari</td>\n",
       "    </tr>\n",
       "    <tr>\n",
       "      <th>3</th>\n",
       "      <td>https://www.zomato.com/bangalore/addhuri-udupi...</td>\n",
       "      <td>1st Floor, Annakuteera, 3rd Stage, Banashankar...</td>\n",
       "      <td>Addhuri Udupi Bhojana</td>\n",
       "      <td>No</td>\n",
       "      <td>No</td>\n",
       "      <td>3.7/5</td>\n",
       "      <td>88</td>\n",
       "      <td>+91 9620009302</td>\n",
       "      <td>Banashankari</td>\n",
       "      <td>Quick Bites</td>\n",
       "      <td>Masala Dosa</td>\n",
       "      <td>South Indian, North Indian</td>\n",
       "      <td>300</td>\n",
       "      <td>[('Rated 4.0', \"RATED\\n  Great food and proper...</td>\n",
       "      <td>[]</td>\n",
       "      <td>Buffet</td>\n",
       "      <td>Banashankari</td>\n",
       "    </tr>\n",
       "    <tr>\n",
       "      <th>4</th>\n",
       "      <td>https://www.zomato.com/bangalore/grand-village...</td>\n",
       "      <td>10, 3rd Floor, Lakshmi Associates, Gandhi Baza...</td>\n",
       "      <td>Grand Village</td>\n",
       "      <td>No</td>\n",
       "      <td>No</td>\n",
       "      <td>3.8/5</td>\n",
       "      <td>166</td>\n",
       "      <td>+91 8026612447\\r\\n+91 9901210005</td>\n",
       "      <td>Basavanagudi</td>\n",
       "      <td>Casual Dining</td>\n",
       "      <td>Panipuri, Gol Gappe</td>\n",
       "      <td>North Indian, Rajasthani</td>\n",
       "      <td>600</td>\n",
       "      <td>[('Rated 4.0', 'RATED\\n  Very good restaurant ...</td>\n",
       "      <td>[]</td>\n",
       "      <td>Buffet</td>\n",
       "      <td>Banashankari</td>\n",
       "    </tr>\n",
       "  </tbody>\n",
       "</table>\n",
       "</div>"
      ],
      "text/plain": [
       "                                                 url  \\\n",
       "0  https://www.zomato.com/bangalore/jalsa-banasha...   \n",
       "1  https://www.zomato.com/bangalore/spice-elephan...   \n",
       "2  https://www.zomato.com/SanchurroBangalore?cont...   \n",
       "3  https://www.zomato.com/bangalore/addhuri-udupi...   \n",
       "4  https://www.zomato.com/bangalore/grand-village...   \n",
       "\n",
       "                                             address                   name  \\\n",
       "0  942, 21st Main Road, 2nd Stage, Banashankari, ...                  Jalsa   \n",
       "1  2nd Floor, 80 Feet Road, Near Big Bazaar, 6th ...         Spice Elephant   \n",
       "2  1112, Next to KIMS Medical College, 17th Cross...        San Churro Cafe   \n",
       "3  1st Floor, Annakuteera, 3rd Stage, Banashankar...  Addhuri Udupi Bhojana   \n",
       "4  10, 3rd Floor, Lakshmi Associates, Gandhi Baza...          Grand Village   \n",
       "\n",
       "  online_order book_table   rate  votes                             phone  \\\n",
       "0          Yes        Yes  4.1/5    775    080 42297555\\r\\n+91 9743772233   \n",
       "1          Yes         No  4.1/5    787                      080 41714161   \n",
       "2          Yes         No  3.8/5    918                    +91 9663487993   \n",
       "3           No         No  3.7/5     88                    +91 9620009302   \n",
       "4           No         No  3.8/5    166  +91 8026612447\\r\\n+91 9901210005   \n",
       "\n",
       "       location            rest_type  \\\n",
       "0  Banashankari        Casual Dining   \n",
       "1  Banashankari        Casual Dining   \n",
       "2  Banashankari  Cafe, Casual Dining   \n",
       "3  Banashankari          Quick Bites   \n",
       "4  Basavanagudi        Casual Dining   \n",
       "\n",
       "                                          dish_liked  \\\n",
       "0  Pasta, Lunch Buffet, Masala Papad, Paneer Laja...   \n",
       "1  Momos, Lunch Buffet, Chocolate Nirvana, Thai G...   \n",
       "2  Churros, Cannelloni, Minestrone Soup, Hot Choc...   \n",
       "3                                        Masala Dosa   \n",
       "4                                Panipuri, Gol Gappe   \n",
       "\n",
       "                         cuisines approx_cost(for two people)  \\\n",
       "0  North Indian, Mughlai, Chinese                         800   \n",
       "1     Chinese, North Indian, Thai                         800   \n",
       "2          Cafe, Mexican, Italian                         800   \n",
       "3      South Indian, North Indian                         300   \n",
       "4        North Indian, Rajasthani                         600   \n",
       "\n",
       "                                        reviews_list menu_item  \\\n",
       "0  [('Rated 4.0', 'RATED\\n  A beautiful place to ...        []   \n",
       "1  [('Rated 4.0', 'RATED\\n  Had been here for din...        []   \n",
       "2  [('Rated 3.0', \"RATED\\n  Ambience is not that ...        []   \n",
       "3  [('Rated 4.0', \"RATED\\n  Great food and proper...        []   \n",
       "4  [('Rated 4.0', 'RATED\\n  Very good restaurant ...        []   \n",
       "\n",
       "  listed_in(type) listed_in(city)  \n",
       "0          Buffet    Banashankari  \n",
       "1          Buffet    Banashankari  \n",
       "2          Buffet    Banashankari  \n",
       "3          Buffet    Banashankari  \n",
       "4          Buffet    Banashankari  "
      ]
     },
     "execution_count": 24,
     "metadata": {},
     "output_type": "execute_result"
    }
   ],
   "source": [
    "# Reading the data CSV file\n",
    "df.head()"
   ]
  },
  {
   "cell_type": "code",
   "execution_count": 25,
   "id": "3489ddbd",
   "metadata": {},
   "outputs": [
    {
     "name": "stdout",
     "output_type": "stream",
     "text": [
      "Number of rows: 51717, Number of columns: 17\n",
      "Shape of dataset: (51717, 17)\n"
     ]
    }
   ],
   "source": [
    "#No. of rows and columns\n",
    "df.shape \n",
    "print(f'Number of rows: {df.shape[0]}, Number of columns: {df.shape[1]}')\n",
    "print(f'Shape of dataset: {df.shape}')"
   ]
  },
  {
   "cell_type": "markdown",
   "id": "e37f133a",
   "metadata": {},
   "source": [
    "**Task Accomplished: Write code to display the shape of the dataset (number of rows and columns)**\n"
   ]
  },
  {
   "cell_type": "markdown",
   "id": "2d3a8f28",
   "metadata": {},
   "source": [
    "# Cleaning The Data:\n",
    "- Dropping the unwanted columns in the dataset \n",
    "- Dealing with the missing values\n",
    "- Formatting the data value in the correct data type and ready for exploration\n",
    "\n"
   ]
  },
  {
   "cell_type": "code",
   "execution_count": 26,
   "id": "b64f05df",
   "metadata": {},
   "outputs": [
    {
     "data": {
      "text/plain": [
       "Index(['url', 'address', 'name', 'online_order', 'book_table', 'rate', 'votes',\n",
       "       'phone', 'location', 'rest_type', 'dish_liked', 'cuisines',\n",
       "       'approx_cost(for two people)', 'reviews_list', 'menu_item',\n",
       "       'listed_in(type)', 'listed_in(city)'],\n",
       "      dtype='object')"
      ]
     },
     "execution_count": 26,
     "metadata": {},
     "output_type": "execute_result"
    }
   ],
   "source": [
    "# Obtaining names of all the columns in the dataset\n",
    "df.columns"
   ]
  },
  {
   "cell_type": "code",
   "execution_count": 27,
   "id": "d87b5dd9",
   "metadata": {
    "scrolled": true
   },
   "outputs": [
    {
     "data": {
      "text/html": [
       "<div>\n",
       "<style scoped>\n",
       "    .dataframe tbody tr th:only-of-type {\n",
       "        vertical-align: middle;\n",
       "    }\n",
       "\n",
       "    .dataframe tbody tr th {\n",
       "        vertical-align: top;\n",
       "    }\n",
       "\n",
       "    .dataframe thead th {\n",
       "        text-align: right;\n",
       "    }\n",
       "</style>\n",
       "<table border=\"1\" class=\"dataframe\">\n",
       "  <thead>\n",
       "    <tr style=\"text-align: right;\">\n",
       "      <th></th>\n",
       "      <th>name</th>\n",
       "      <th>online_order</th>\n",
       "      <th>book_table</th>\n",
       "      <th>rate</th>\n",
       "      <th>votes</th>\n",
       "      <th>location</th>\n",
       "      <th>cuisines</th>\n",
       "      <th>approx_cost(for two people)</th>\n",
       "      <th>listed_in(type)</th>\n",
       "    </tr>\n",
       "  </thead>\n",
       "  <tbody>\n",
       "    <tr>\n",
       "      <th>0</th>\n",
       "      <td>Jalsa</td>\n",
       "      <td>Yes</td>\n",
       "      <td>Yes</td>\n",
       "      <td>4.1/5</td>\n",
       "      <td>775</td>\n",
       "      <td>Banashankari</td>\n",
       "      <td>North Indian, Mughlai, Chinese</td>\n",
       "      <td>800</td>\n",
       "      <td>Buffet</td>\n",
       "    </tr>\n",
       "    <tr>\n",
       "      <th>1</th>\n",
       "      <td>Spice Elephant</td>\n",
       "      <td>Yes</td>\n",
       "      <td>No</td>\n",
       "      <td>4.1/5</td>\n",
       "      <td>787</td>\n",
       "      <td>Banashankari</td>\n",
       "      <td>Chinese, North Indian, Thai</td>\n",
       "      <td>800</td>\n",
       "      <td>Buffet</td>\n",
       "    </tr>\n",
       "    <tr>\n",
       "      <th>2</th>\n",
       "      <td>San Churro Cafe</td>\n",
       "      <td>Yes</td>\n",
       "      <td>No</td>\n",
       "      <td>3.8/5</td>\n",
       "      <td>918</td>\n",
       "      <td>Banashankari</td>\n",
       "      <td>Cafe, Mexican, Italian</td>\n",
       "      <td>800</td>\n",
       "      <td>Buffet</td>\n",
       "    </tr>\n",
       "    <tr>\n",
       "      <th>3</th>\n",
       "      <td>Addhuri Udupi Bhojana</td>\n",
       "      <td>No</td>\n",
       "      <td>No</td>\n",
       "      <td>3.7/5</td>\n",
       "      <td>88</td>\n",
       "      <td>Banashankari</td>\n",
       "      <td>South Indian, North Indian</td>\n",
       "      <td>300</td>\n",
       "      <td>Buffet</td>\n",
       "    </tr>\n",
       "    <tr>\n",
       "      <th>4</th>\n",
       "      <td>Grand Village</td>\n",
       "      <td>No</td>\n",
       "      <td>No</td>\n",
       "      <td>3.8/5</td>\n",
       "      <td>166</td>\n",
       "      <td>Basavanagudi</td>\n",
       "      <td>North Indian, Rajasthani</td>\n",
       "      <td>600</td>\n",
       "      <td>Buffet</td>\n",
       "    </tr>\n",
       "  </tbody>\n",
       "</table>\n",
       "</div>"
      ],
      "text/plain": [
       "                    name online_order book_table   rate  votes      location  \\\n",
       "0                  Jalsa          Yes        Yes  4.1/5    775  Banashankari   \n",
       "1         Spice Elephant          Yes         No  4.1/5    787  Banashankari   \n",
       "2        San Churro Cafe          Yes         No  3.8/5    918  Banashankari   \n",
       "3  Addhuri Udupi Bhojana           No         No  3.7/5     88  Banashankari   \n",
       "4          Grand Village           No         No  3.8/5    166  Basavanagudi   \n",
       "\n",
       "                         cuisines approx_cost(for two people) listed_in(type)  \n",
       "0  North Indian, Mughlai, Chinese                         800          Buffet  \n",
       "1     Chinese, North Indian, Thai                         800          Buffet  \n",
       "2          Cafe, Mexican, Italian                         800          Buffet  \n",
       "3      South Indian, North Indian                         300          Buffet  \n",
       "4        North Indian, Rajasthani                         600          Buffet  "
      ]
     },
     "execution_count": 27,
     "metadata": {},
     "output_type": "execute_result"
    }
   ],
   "source": [
    "# Dropping the column not needed to answer our research questions\n",
    "df = df.drop(['url', 'address', 'phone', 'menu_item', 'dish_liked', 'reviews_list', 'listed_in(city)','rest_type'], axis = 1)\n",
    "df.head()\n"
   ]
  },
  {
   "cell_type": "code",
   "execution_count": 28,
   "id": "ef4f87ee",
   "metadata": {},
   "outputs": [
    {
     "data": {
      "text/html": [
       "<div>\n",
       "<style scoped>\n",
       "    .dataframe tbody tr th:only-of-type {\n",
       "        vertical-align: middle;\n",
       "    }\n",
       "\n",
       "    .dataframe tbody tr th {\n",
       "        vertical-align: top;\n",
       "    }\n",
       "\n",
       "    .dataframe thead th {\n",
       "        text-align: right;\n",
       "    }\n",
       "</style>\n",
       "<table border=\"1\" class=\"dataframe\">\n",
       "  <thead>\n",
       "    <tr style=\"text-align: right;\">\n",
       "      <th></th>\n",
       "      <th>name</th>\n",
       "      <th>online_order</th>\n",
       "      <th>book_table</th>\n",
       "      <th>rate</th>\n",
       "      <th>votes</th>\n",
       "      <th>location</th>\n",
       "      <th>cuisines</th>\n",
       "      <th>Cost_two_plates</th>\n",
       "      <th>Type</th>\n",
       "    </tr>\n",
       "  </thead>\n",
       "  <tbody>\n",
       "    <tr>\n",
       "      <th>0</th>\n",
       "      <td>Jalsa</td>\n",
       "      <td>Yes</td>\n",
       "      <td>Yes</td>\n",
       "      <td>4.1/5</td>\n",
       "      <td>775</td>\n",
       "      <td>Banashankari</td>\n",
       "      <td>North Indian, Mughlai, Chinese</td>\n",
       "      <td>800</td>\n",
       "      <td>Buffet</td>\n",
       "    </tr>\n",
       "    <tr>\n",
       "      <th>1</th>\n",
       "      <td>Spice Elephant</td>\n",
       "      <td>Yes</td>\n",
       "      <td>No</td>\n",
       "      <td>4.1/5</td>\n",
       "      <td>787</td>\n",
       "      <td>Banashankari</td>\n",
       "      <td>Chinese, North Indian, Thai</td>\n",
       "      <td>800</td>\n",
       "      <td>Buffet</td>\n",
       "    </tr>\n",
       "    <tr>\n",
       "      <th>2</th>\n",
       "      <td>San Churro Cafe</td>\n",
       "      <td>Yes</td>\n",
       "      <td>No</td>\n",
       "      <td>3.8/5</td>\n",
       "      <td>918</td>\n",
       "      <td>Banashankari</td>\n",
       "      <td>Cafe, Mexican, Italian</td>\n",
       "      <td>800</td>\n",
       "      <td>Buffet</td>\n",
       "    </tr>\n",
       "    <tr>\n",
       "      <th>3</th>\n",
       "      <td>Addhuri Udupi Bhojana</td>\n",
       "      <td>No</td>\n",
       "      <td>No</td>\n",
       "      <td>3.7/5</td>\n",
       "      <td>88</td>\n",
       "      <td>Banashankari</td>\n",
       "      <td>South Indian, North Indian</td>\n",
       "      <td>300</td>\n",
       "      <td>Buffet</td>\n",
       "    </tr>\n",
       "    <tr>\n",
       "      <th>4</th>\n",
       "      <td>Grand Village</td>\n",
       "      <td>No</td>\n",
       "      <td>No</td>\n",
       "      <td>3.8/5</td>\n",
       "      <td>166</td>\n",
       "      <td>Basavanagudi</td>\n",
       "      <td>North Indian, Rajasthani</td>\n",
       "      <td>600</td>\n",
       "      <td>Buffet</td>\n",
       "    </tr>\n",
       "  </tbody>\n",
       "</table>\n",
       "</div>"
      ],
      "text/plain": [
       "                    name online_order book_table   rate  votes      location  \\\n",
       "0                  Jalsa          Yes        Yes  4.1/5    775  Banashankari   \n",
       "1         Spice Elephant          Yes         No  4.1/5    787  Banashankari   \n",
       "2        San Churro Cafe          Yes         No  3.8/5    918  Banashankari   \n",
       "3  Addhuri Udupi Bhojana           No         No  3.7/5     88  Banashankari   \n",
       "4          Grand Village           No         No  3.8/5    166  Basavanagudi   \n",
       "\n",
       "                         cuisines Cost_two_plates    Type  \n",
       "0  North Indian, Mughlai, Chinese             800  Buffet  \n",
       "1     Chinese, North Indian, Thai             800  Buffet  \n",
       "2          Cafe, Mexican, Italian             800  Buffet  \n",
       "3      South Indian, North Indian             300  Buffet  \n",
       "4        North Indian, Rajasthani             600  Buffet  "
      ]
     },
     "execution_count": 28,
     "metadata": {},
     "output_type": "execute_result"
    }
   ],
   "source": [
    "#Renaming columns for clarity in naming\n",
    "df.rename(columns = {'approx_cost(for two people)':'Cost_two_plates', 'listed_in(type)':'Type'}, inplace = True)\n",
    "df.head()"
   ]
  },
  {
   "cell_type": "code",
   "execution_count": 29,
   "id": "a2321d69",
   "metadata": {},
   "outputs": [
    {
     "name": "stdout",
     "output_type": "stream",
     "text": [
      "<class 'pandas.core.frame.DataFrame'>\n",
      "RangeIndex: 51717 entries, 0 to 51716\n",
      "Data columns (total 9 columns):\n",
      " #   Column           Non-Null Count  Dtype \n",
      "---  ------           --------------  ----- \n",
      " 0   name             51717 non-null  object\n",
      " 1   online_order     51717 non-null  object\n",
      " 2   book_table       51717 non-null  object\n",
      " 3   rate             43942 non-null  object\n",
      " 4   votes            51717 non-null  int64 \n",
      " 5   location         51696 non-null  object\n",
      " 6   cuisines         51672 non-null  object\n",
      " 7   Cost_two_plates  51371 non-null  object\n",
      " 8   Type             51717 non-null  object\n",
      "dtypes: int64(1), object(8)\n",
      "memory usage: 3.6+ MB\n"
     ]
    }
   ],
   "source": [
    "#checking the columns which has null values in it\n",
    "df.info()"
   ]
  },
  {
   "cell_type": "markdown",
   "id": "411d7d85",
   "metadata": {},
   "source": [
    "**Observe the columns rate, location, cuisines, approx_cost(for two people) have null value. So we deal these columns.**"
   ]
  },
  {
   "cell_type": "code",
   "execution_count": 30,
   "id": "709f0d3e",
   "metadata": {},
   "outputs": [],
   "source": [
    "#first Removing the duplicate rows if any in the dataset\n",
    "df.drop_duplicates(inplace = True)"
   ]
  },
  {
   "cell_type": "markdown",
   "id": "233590ad",
   "metadata": {},
   "source": [
    "**Cleaning and formatting the 'rate' column**"
   ]
  },
  {
   "cell_type": "code",
   "execution_count": 31,
   "id": "96f4a448",
   "metadata": {},
   "outputs": [
    {
     "data": {
      "text/plain": [
       "array(['4.1/5', '3.8/5', '3.7/5', '3.6/5', '4.6/5', '4.0/5', '4.2/5',\n",
       "       '3.9/5', '3.1/5', '3.0/5', '3.2/5', '3.3/5', '2.8/5', '4.4/5',\n",
       "       '4.3/5', 'NEW', '2.9/5', '3.5/5', nan, '2.6/5', '3.8 /5', '3.4/5',\n",
       "       '4.5/5', '2.5/5', '2.7/5', '4.7/5', '2.4/5', '2.2/5', '2.3/5',\n",
       "       '3.4 /5', '-', '3.6 /5', '4.8/5', '3.9 /5', '4.2 /5', '4.0 /5',\n",
       "       '4.1 /5', '3.7 /5', '3.1 /5', '2.9 /5', '3.3 /5', '2.8 /5',\n",
       "       '3.5 /5', '2.7 /5', '2.5 /5', '3.2 /5', '2.6 /5', '4.5 /5',\n",
       "       '4.3 /5', '4.4 /5', '4.9/5', '2.1/5', '2.0/5', '1.8/5', '4.6 /5',\n",
       "       '4.9 /5', '3.0 /5', '4.8 /5', '2.3 /5', '4.7 /5', '2.4 /5',\n",
       "       '2.1 /5', '2.2 /5', '2.0 /5', '1.8 /5'], dtype=object)"
      ]
     },
     "execution_count": 31,
     "metadata": {},
     "output_type": "execute_result"
    }
   ],
   "source": [
    "# finding all uniques values in the rate column\n",
    "df['rate'].unique()"
   ]
  },
  {
   "cell_type": "markdown",
   "id": "1cd84111",
   "metadata": {},
   "source": [
    "**Some resturants have 'NEW', '-' value instead of the rating. Removing all such rows for in data**\n",
    "\n",
    "# *Loop implementation and Conditional statements :*"
   ]
  },
  {
   "cell_type": "code",
   "execution_count": 32,
   "id": "e49581d4",
   "metadata": {},
   "outputs": [
    {
     "data": {
      "text/plain": [
       "array(['4.1/5', '3.8/5', '3.7/5', '3.6/5', '4.6/5', '4.0/5', '4.2/5',\n",
       "       '3.9/5', '3.1/5', '3.0/5', '3.2/5', '3.3/5', '2.8/5', '4.4/5',\n",
       "       '4.3/5', '2.9/5', '3.5/5', nan, '2.6/5', '3.8 /5', '3.4/5',\n",
       "       '4.5/5', '2.5/5', '2.7/5', '4.7/5', '2.4/5', '2.2/5', '2.3/5',\n",
       "       '3.4 /5', '3.6 /5', '4.8/5', '3.9 /5', '4.2 /5', '4.0 /5',\n",
       "       '4.1 /5', '3.7 /5', '3.1 /5', '2.9 /5', '3.3 /5', '2.8 /5',\n",
       "       '3.5 /5', '2.7 /5', '2.5 /5', '3.2 /5', '2.6 /5', '4.5 /5',\n",
       "       '4.3 /5', '4.4 /5', '4.9/5', '2.1/5', '2.0/5', '1.8/5', '4.6 /5',\n",
       "       '4.9 /5', '3.0 /5', '4.8 /5', '2.3 /5', '4.7 /5', '2.4 /5',\n",
       "       '2.1 /5', '2.2 /5', '2.0 /5', '1.8 /5'], dtype=object)"
      ]
     },
     "execution_count": 32,
     "metadata": {},
     "output_type": "execute_result"
    }
   ],
   "source": [
    "# Iterating over each row in the DataFrame, adding each row with entrt 'NEW' or '-' to a list\n",
    "indices_of_rows_to_remove = []\n",
    "for index, row in df.iterrows():\n",
    "    if row['rate'] == 'NEW' or row['rate'] == '-':\n",
    "        indices_of_rows_to_remove.append(index)\n",
    "   \n",
    "#\n",
    "# dropping the rows and resetting the dataframe index\n",
    "df = df.drop(indices_of_rows_to_remove)\n",
    "df = df.reset_index(drop=True)\n",
    "\n",
    "# again checking unique values in 'rate'\n",
    "df['rate'].unique()"
   ]
  },
  {
   "cell_type": "markdown",
   "id": "73528b3f",
   "metadata": {},
   "source": [
    "**Task done: Implement a code segment that utilizes conditional statements to filter, select, or transform data based on specific conditions.** \n",
    "\n",
    "**Task done: Code implementations (01) that utilize loops to iterate over the dataset, performing a specific task or calculation**\n",
    "\n",
    "Now, observe that the dtype is object, but ratings will be much more accessible for analysis as float points. So, now we do that.\n",
    "\n",
    "# *Function Definition:*"
   ]
  },
  {
   "cell_type": "code",
   "execution_count": 33,
   "id": "b0227a89",
   "metadata": {},
   "outputs": [
    {
     "data": {
      "text/plain": [
       "array([4.1, 3.8, 3.7, 3.6, 4.6, 4. , 4.2, 3.9, 3.1, 3. , 3.2, 3.3, 2.8,\n",
       "       4.4, 4.3, 2.9, 3.5, nan, 2.6, 3.4, 4.5, 2.5, 2.7, 4.7, 2.4, 2.2,\n",
       "       2.3, 4.8, 4.9, 2.1, 2. , 1.8])"
      ]
     },
     "execution_count": 33,
     "metadata": {},
     "output_type": "execute_result"
    }
   ],
   "source": [
    "# defining a function to convert values in column 'rate' into floats values\n",
    "def convert_rating(value):\n",
    "    if isinstance(value, str):  # Check if the value is a string\n",
    "        return float(value.split('/')[0])\n",
    "    return value  # Return the value as it is if it's not a string\n",
    "\n",
    "# Using the function \n",
    "df['rate'] = df['rate'].astype(str).apply(convert_rating)\n",
    "\n",
    "# displaying values after change\n",
    "df['rate'].unique()\n"
   ]
  },
  {
   "cell_type": "markdown",
   "id": "35730364",
   "metadata": {},
   "source": [
    "**Task Done: A function (01) that operate on the dataset**\n",
    "\n",
    "**Now, replacing the missing values in rate with mean of data**"
   ]
  },
  {
   "cell_type": "code",
   "execution_count": 34,
   "id": "bf79d576",
   "metadata": {},
   "outputs": [
    {
     "data": {
      "text/plain": [
       "array([4.1, 3.8, 3.7, 3.6, 4.6, 4. , 4.2, 3.9, 3.1, 3. , 3.2, 3.3, 2.8,\n",
       "       4.4, 4.3, 2.9, 3.5, 2.6, 3.4, 4.5, 2.5, 2.7, 4.7, 2.4, 2.2, 2.3,\n",
       "       4.8, 4.9, 2.1, 2. , 1.8])"
      ]
     },
     "execution_count": 34,
     "metadata": {},
     "output_type": "execute_result"
    }
   ],
   "source": [
    "# creating a general function utilizing keyword arguments for flexible parameter passing for replacing missing values of any column with mean.\n",
    "\n",
    "def replace_nan_with_mean(column_name):\n",
    "    mean_value = round(df[column_name].mean(),1)\n",
    "    df[column_name].fillna(mean_value, inplace=True)\n",
    "\n",
    "replace_nan_with_mean('rate')\n",
    "df['rate'].unique()"
   ]
  },
  {
   "cell_type": "markdown",
   "id": "6b569c37",
   "metadata": {},
   "source": [
    "**Task done: Identify and handle missing values using an appropriate imputation technique.**\n",
    "\n",
    "**Task done: A function (02) on dataset utilizing keyword arguments for flexible parameter passing.**"
   ]
  },
  {
   "cell_type": "code",
   "execution_count": 35,
   "id": "8b96ee2b",
   "metadata": {},
   "outputs": [
    {
     "name": "stdout",
     "output_type": "stream",
     "text": [
      "<class 'pandas.core.frame.DataFrame'>\n",
      "RangeIndex: 33664 entries, 0 to 33663\n",
      "Data columns (total 9 columns):\n",
      " #   Column           Non-Null Count  Dtype  \n",
      "---  ------           --------------  -----  \n",
      " 0   name             33664 non-null  object \n",
      " 1   online_order     33664 non-null  object \n",
      " 2   book_table       33664 non-null  object \n",
      " 3   rate             33664 non-null  float64\n",
      " 4   votes            33664 non-null  int64  \n",
      " 5   location         33650 non-null  object \n",
      " 6   cuisines         33631 non-null  object \n",
      " 7   Cost_two_plates  33448 non-null  object \n",
      " 8   Type             33664 non-null  object \n",
      "dtypes: float64(1), int64(1), object(7)\n",
      "memory usage: 2.3+ MB\n"
     ]
    }
   ],
   "source": [
    "df.info()"
   ]
  },
  {
   "cell_type": "markdown",
   "id": "c7d401da",
   "metadata": {},
   "source": [
    "**We have successfully formatted the rate column**\n"
   ]
  },
  {
   "cell_type": "markdown",
   "id": "a0686f90",
   "metadata": {},
   "source": [
    "**Formatting the Locations column:**"
   ]
  },
  {
   "cell_type": "code",
   "execution_count": 36,
   "id": "eb0b7c52",
   "metadata": {},
   "outputs": [
    {
     "data": {
      "text/plain": [
       "array(['Banashankari', 'Basavanagudi', 'Mysore Road', 'Jayanagar',\n",
       "       'Kumaraswamy Layout', 'Rajarajeshwari Nagar', 'Vijay Nagar',\n",
       "       'Uttarahalli', 'JP Nagar', 'South Bangalore', 'City Market',\n",
       "       'Nagarbhavi', 'Bannerghatta Road', 'BTM', 'Kanakapura Road',\n",
       "       'Bommanahalli', nan, 'Electronic City', 'HSR', 'Marathahalli',\n",
       "       'Sarjapur Road', 'Wilson Garden', 'Shanti Nagar',\n",
       "       'Koramangala 5th Block', 'Koramangala 8th Block', 'Richmond Road',\n",
       "       'Koramangala 7th Block', 'Jalahalli', 'Koramangala 4th Block',\n",
       "       'Bellandur', 'Whitefield', 'East Bangalore', 'Old Airport Road',\n",
       "       'Indiranagar', 'Koramangala 1st Block', 'Frazer Town', 'RT Nagar',\n",
       "       'MG Road', 'Brigade Road', 'Lavelle Road', 'Church Street',\n",
       "       'Ulsoor', 'Residency Road', 'Shivajinagar', 'Infantry Road',\n",
       "       'St. Marks Road', 'Cunningham Road', 'Race Course Road',\n",
       "       'Commercial Street', 'Vasanth Nagar', 'HBR Layout', 'Domlur',\n",
       "       'Ejipura', 'Jeevan Bhima Nagar', 'Old Madras Road', 'Malleshwaram',\n",
       "       'Seshadripuram', 'Kammanahalli', 'Koramangala 6th Block',\n",
       "       'Majestic', 'Langford Town', 'Central Bangalore', 'Brookefield',\n",
       "       'ITPL Main Road, Whitefield', 'Varthur Main Road, Whitefield',\n",
       "       'KR Puram', 'Koramangala 2nd Block', 'Koramangala 3rd Block',\n",
       "       'Koramangala', 'Hosur Road', 'Banaswadi', 'North Bangalore',\n",
       "       'Nagawara', 'Hennur', 'Kalyan Nagar', 'New BEL Road', 'Jakkur',\n",
       "       'Rammurthy Nagar', 'Thippasandra', 'CV Raman Nagar',\n",
       "       'Kaggadasapura', 'Rajajinagar', 'Kengeri', 'Sankey Road',\n",
       "       'Sanjay Nagar', 'Sadashiv Nagar', 'Basaveshwara Nagar',\n",
       "       'Yeshwantpur', 'West Bangalore', 'Magadi Road', 'Yelahanka',\n",
       "       'Sahakara Nagar', 'Hebbal', 'Peenya'], dtype=object)"
      ]
     },
     "execution_count": 36,
     "metadata": {},
     "output_type": "execute_result"
    }
   ],
   "source": [
    "df['location'].unique()"
   ]
  },
  {
   "cell_type": "markdown",
   "id": "58071562",
   "metadata": {},
   "source": [
    "**Since, there are so many locations, storing locations with less then 400 resturants to an other value**"
   ]
  },
  {
   "cell_type": "code",
   "execution_count": 37,
   "id": "088a1b00",
   "metadata": {},
   "outputs": [
    {
     "data": {
      "text/plain": [
       "others                   6206\n",
       "BTM                      2384\n",
       "Whitefield               1879\n",
       "Indiranagar              1719\n",
       "HSR                      1691\n",
       "Marathahalli             1633\n",
       "Koramangala 5th Block    1591\n",
       "JP Nagar                 1343\n",
       "Jayanagar                1213\n",
       "Electronic City          1100\n",
       "Bellandur                1085\n",
       "Bannerghatta Road        1009\n",
       "Sarjapur Road             906\n",
       "Brigade Road              673\n",
       "Koramangala 7th Block     618\n",
       "Koramangala 6th Block     589\n",
       "Koramangala 4th Block     576\n",
       "Brookefield               574\n",
       "New BEL Road              573\n",
       "Kalyan Nagar              564\n",
       "MG Road                   561\n",
       "Malleshwaram              543\n",
       "Banashankari              540\n",
       "Ulsoor                    525\n",
       "Koramangala 1st Block     505\n",
       "Frazer Town               469\n",
       "Rajajinagar               445\n",
       "Church Street             444\n",
       "Basavanagudi              435\n",
       "Banaswadi                 428\n",
       "Residency Road            422\n",
       "Kammanahalli              407\n",
       "Name: location, dtype: int64"
      ]
     },
     "execution_count": 37,
     "metadata": {},
     "output_type": "execute_result"
    }
   ],
   "source": [
    "location = df['location'].value_counts(ascending  = False)\n",
    "location_less_than_400 = location[location < 400]\n",
    "\n",
    "#defining a funtion to replace name of location with less than 400 count to an other value.\n",
    "def handle_location(value):\n",
    "    if(value in location_less_than_400):\n",
    "        return 'others'\n",
    "    else:\n",
    "        return value\n",
    "\n",
    "#removing rows with missing location\n",
    "\n",
    "        \n",
    "df['location'] = df['location'].apply(handle_location)\n",
    "df.dropna(subset=['location'], inplace=True)\n",
    "df = df.reset_index(drop=True)\n",
    "df['location'].value_counts()"
   ]
  },
  {
   "cell_type": "markdown",
   "id": "0d448036",
   "metadata": {},
   "source": [
    "Similary,\n",
    "**Formatting the Cost_two_plates column**"
   ]
  },
  {
   "cell_type": "code",
   "execution_count": 38,
   "id": "d76ad808",
   "metadata": {},
   "outputs": [
    {
     "data": {
      "text/plain": [
       "array(['800', '300', '600', '700', '550', '500', '450', '650', '400',\n",
       "       '900', '200', '750', '150', '850', '100', '1,200', '350', '250',\n",
       "       '950', '1,000', '1,500', '1,300', '199', '1,100', '1,600', '230',\n",
       "       '130', '80', '50', '190', '1,700', nan, '180', '1,350', '2,200',\n",
       "       '1,400', '2,000', '1,800', '1,900', '330', '2,500', '2,100',\n",
       "       '3,000', '2,800', '3,400', '40', '1,250', '3,500', '4,000',\n",
       "       '2,400', '2,600', '120', '1,450', '469', '70', '3,200', '60',\n",
       "       '240', '6,000', '1,050', '2,300', '4,100', '5,000', '3,700',\n",
       "       '1,650', '2,700', '4,500', '140', '360'], dtype=object)"
      ]
     },
     "execution_count": 38,
     "metadata": {},
     "output_type": "execute_result"
    }
   ],
   "source": [
    "df['Cost_two_plates'].unique()"
   ]
  },
  {
   "cell_type": "markdown",
   "id": "99f12f1f",
   "metadata": {},
   "source": [
    "**Since cost is more useful as an float for analysis, thus removing ',' from strings and coverting values into float values**"
   ]
  },
  {
   "cell_type": "code",
   "execution_count": 39,
   "id": "fb9d0e4f",
   "metadata": {},
   "outputs": [
    {
     "data": {
      "text/plain": [
       "array([ 800.,  300.,  600.,  700.,  550.,  500.,  450.,  650.,  400.,\n",
       "        900.,  200.,  750.,  150.,  850.,  100., 1200.,  350.,  250.,\n",
       "        950., 1000., 1500., 1300.,  199., 1100., 1600.,  230.,  130.,\n",
       "         80.,   50.,  190., 1700.,   nan,  180., 1350., 2200., 1400.,\n",
       "       2000., 1800., 1900.,  330., 2500., 2100., 3000., 2800., 3400.,\n",
       "         40., 1250., 3500., 4000., 2400., 2600.,  120., 1450.,  469.,\n",
       "         70., 3200.,   60.,  240., 6000., 1050., 2300., 4100., 5000.,\n",
       "       3700., 1650., 2700., 4500.,  140.,  360.])"
      ]
     },
     "execution_count": 39,
     "metadata": {},
     "output_type": "execute_result"
    }
   ],
   "source": [
    "\n",
    "def remove_comma(value):\n",
    "    value = str(value)\n",
    "    if ',' in value:\n",
    "        value = value.replace(',', '')\n",
    "        return float(value)\n",
    "    else:\n",
    "        return float(value)\n",
    "    \n",
    "df['Cost_two_plates'] = df['Cost_two_plates'].apply(remove_comma)\n",
    "df['Cost_two_plates'].unique()\n"
   ]
  },
  {
   "cell_type": "code",
   "execution_count": 40,
   "id": "6645ba5d",
   "metadata": {},
   "outputs": [
    {
     "data": {
      "text/plain": [
       "array([ 800. ,  300. ,  600. ,  700. ,  550. ,  500. ,  450. ,  650. ,\n",
       "        400. ,  900. ,  200. ,  750. ,  150. ,  850. ,  100. , 1200. ,\n",
       "        350. ,  250. ,  950. , 1000. , 1500. , 1300. ,  199. , 1100. ,\n",
       "       1600. ,  230. ,  130. ,   80. ,   50. ,  190. , 1700. ,  600.4,\n",
       "        180. , 1350. , 2200. , 1400. , 2000. , 1800. , 1900. ,  330. ,\n",
       "       2500. , 2100. , 3000. , 2800. , 3400. ,   40. , 1250. , 3500. ,\n",
       "       4000. , 2400. , 2600. ,  120. , 1450. ,  469. ,   70. , 3200. ,\n",
       "         60. ,  240. , 6000. , 1050. , 2300. , 4100. , 5000. , 3700. ,\n",
       "       1650. , 2700. , 4500. ,  140. ,  360. ])"
      ]
     },
     "execution_count": 40,
     "metadata": {},
     "output_type": "execute_result"
    }
   ],
   "source": [
    "# replacing the missing value with mean\n",
    "replace_nan_with_mean('Cost_two_plates')\n",
    "df['Cost_two_plates'].unique()"
   ]
  },
  {
   "cell_type": "markdown",
   "id": "ed332e9e",
   "metadata": {},
   "source": [
    "**Formatting the cuisines column**"
   ]
  },
  {
   "cell_type": "code",
   "execution_count": 41,
   "id": "55acafe0",
   "metadata": {},
   "outputs": [
    {
     "data": {
      "text/plain": [
       "North Indian                               1844\n",
       "North Indian, Chinese                      1518\n",
       "South Indian                               1123\n",
       "Bakery, Desserts                            581\n",
       "Biryani                                     544\n",
       "                                           ... \n",
       "Sandwich, Fast Food, Beverages                1\n",
       "Coffee, Street Food                           1\n",
       "American, Finger Food, Italian, Mexican       1\n",
       "North Indian, Modern Indian                   1\n",
       "North Indian, Chinese, Arabian, Momos         1\n",
       "Name: cuisines, Length: 2632, dtype: int64"
      ]
     },
     "execution_count": 41,
     "metadata": {},
     "output_type": "execute_result"
    }
   ],
   "source": [
    "df['cuisines'].value_counts()"
   ]
  },
  {
   "cell_type": "markdown",
   "id": "8770969b",
   "metadata": {},
   "source": [
    "**Similarly as in locations, there are so many cuisines.So storing cuisines with less then 200 resturants to an other value**"
   ]
  },
  {
   "cell_type": "code",
   "execution_count": 43,
   "id": "f44c962f",
   "metadata": {
    "scrolled": true
   },
   "outputs": [
    {
     "data": {
      "text/plain": [
       "array(['others', 'South Indian, North Indian', 'North Indian', 'Cafe',\n",
       "       'Cafe, Continental', 'Cafe, Fast Food', 'Bakery, Desserts',\n",
       "       'Pizza', 'Biryani', 'North Indian, Chinese, Fast Food',\n",
       "       'South Indian', 'Burger, Fast Food', 'Pizza, Fast Food',\n",
       "       'North Indian, Chinese', 'Chinese, Thai', 'Ice Cream, Desserts',\n",
       "       'Desserts, Beverages', 'Chinese', 'Bakery', 'Fast Food',\n",
       "       'Mithai, Street Food', 'South Indian, Chinese',\n",
       "       'Biryani, North Indian, Chinese', 'Desserts', 'Ice Cream',\n",
       "       'South Indian, North Indian, Chinese', 'South Indian, Biryani',\n",
       "       'Beverages', 'Chinese, North Indian',\n",
       "       'South Indian, North Indian, Chinese, Street Food', 'Andhra',\n",
       "       'Street Food', 'Desserts, Ice Cream',\n",
       "       'North Indian, Chinese, Biryani', 'Fast Food, Rolls',\n",
       "       'Beverages, Fast Food', 'North Indian, Chinese, South Indian',\n",
       "       'North Indian, Fast Food', 'North Indian, South Indian',\n",
       "       'North Indian, Biryani', 'Finger Food', 'Continental',\n",
       "       'Fast Food, Beverages', 'Biryani, Kebab', 'North Indian, Mughlai',\n",
       "       'North Indian, South Indian, Chinese', 'Biryani, North Indian',\n",
       "       'Chinese, Momos', 'Desserts, Bakery', 'Bakery, Fast Food',\n",
       "       'Kerala'], dtype=object)"
      ]
     },
     "execution_count": 43,
     "metadata": {},
     "output_type": "execute_result"
    }
   ],
   "source": [
    "cuisines = df['cuisines'].value_counts(ascending  = False)\n",
    "cuisines_less_than_200 = cuisines[cuisines<100]\n",
    "def orgainize_cuisines(value):\n",
    "    if(value in cuisines_less_than_200):\n",
    "        return 'others'\n",
    "    else:\n",
    "        return value\n",
    "#removing rows with missing cuisine\n",
    "df.dropna(subset=['cuisines'], inplace=True)\n",
    "        \n",
    "df['cuisines'] = df['cuisines'].apply(orgainize_cuisines)\n",
    "df['cuisines'].unique()"
   ]
  },
  {
   "cell_type": "markdown",
   "id": "2bfd8d69",
   "metadata": {},
   "source": [
    "**'Type' and 'votes' columns are clean in themselves and require no work.**"
   ]
  },
  {
   "cell_type": "code",
   "execution_count": 44,
   "id": "82ee9712",
   "metadata": {},
   "outputs": [
    {
     "name": "stdout",
     "output_type": "stream",
     "text": [
      "<class 'pandas.core.frame.DataFrame'>\n",
      "Int64Index: 33631 entries, 0 to 33649\n",
      "Data columns (total 9 columns):\n",
      " #   Column           Non-Null Count  Dtype  \n",
      "---  ------           --------------  -----  \n",
      " 0   name             33631 non-null  object \n",
      " 1   online_order     33631 non-null  object \n",
      " 2   book_table       33631 non-null  object \n",
      " 3   rate             33631 non-null  float64\n",
      " 4   votes            33631 non-null  int64  \n",
      " 5   location         33631 non-null  object \n",
      " 6   cuisines         33631 non-null  object \n",
      " 7   Cost_two_plates  33631 non-null  float64\n",
      " 8   Type             33631 non-null  object \n",
      "dtypes: float64(2), int64(1), object(6)\n",
      "memory usage: 2.6+ MB\n"
     ]
    }
   ],
   "source": [
    "df.info()"
   ]
  },
  {
   "cell_type": "markdown",
   "id": "4650c8ca",
   "metadata": {},
   "source": [
    "**Now, we have cleaned our data and move to the next phase**\n"
   ]
  },
  {
   "cell_type": "markdown",
   "id": "6397a224",
   "metadata": {},
   "source": [
    "# *Data Exploration*:\n",
    "- Using python libraries to answer our research questions.\n",
    "\n",
    "\n",
    "### 1. What is the average rating of the restaurants and the average cost for two plates?\n",
    "# *Numpy functions:*"
   ]
  },
  {
   "cell_type": "code",
   "execution_count": 45,
   "id": "515a57c8",
   "metadata": {},
   "outputs": [
    {
     "name": "stdout",
     "output_type": "stream",
     "text": [
      "Average Rating: 3.7\n",
      "Average Cost for Two Plates: 600.45\n"
     ]
    }
   ],
   "source": [
    "average_rating = round(np.mean(df['rate']),1)\n",
    "average_cost = round(np.mean(df['Cost_two_plates']),2)\n",
    "\n",
    "print('Average Rating:', average_rating)\n",
    "print('Average Cost for Two Plates:', average_cost)\n"
   ]
  },
  {
   "cell_type": "markdown",
   "id": "dc6eb613",
   "metadata": {},
   "source": [
    "**Task Done: A code segment that demonstrates the use of Numpy functions for numerical calculations on the dataset**\n",
    "\n",
    "\n",
    "\n",
    "### 2. Which locations have the most and least number of restaurants?\n"
   ]
  },
  {
   "cell_type": "code",
   "execution_count": 46,
   "id": "5a3ca255",
   "metadata": {},
   "outputs": [
    {
     "data": {
      "image/png": "[encoded data removed]",
      "text/plain": [
       "<Figure size 1152x720 with 1 Axes>"
      ]
     },
     "metadata": {
      "needs_background": "light"
     },
     "output_type": "display_data"
    }
   ],
   "source": [
    "location_counts = df['location'].value_counts()\n",
    "\n",
    "# Set the figure size\n",
    "plt.figure(figsize=(16, 10))\n",
    "\n",
    "# Plot the count of restaurants in each location\n",
    "location_counts.plot(kind='bar')\n",
    "\n",
    "# Rotate x-axis labels for better readability\n",
    "plt.xticks(rotation=90)\n",
    "\n",
    "# Set the axis labels\n",
    "plt.xlabel('Location')\n",
    "plt.ylabel('Count')\n",
    "\n",
    "# Set the plot title\n",
    "plt.title('Count of Restaurants in Each Location')\n",
    "\n",
    "# Display the plot\n",
    "plt.show()"
   ]
  },
  {
   "cell_type": "markdown",
   "id": "405aba12",
   "metadata": {},
   "source": [
    "**Result: BTM has the most number of restaurants while Kammanahalli has the least.**\n",
    "\n",
    "**Task Done: A code segment that focuses on data visualization using a suitable library such as Matplotlib or Seaborn, generating visualizations to represent patterns, trends, or relationships in the dataset.**\n",
    "\n",
    "\n",
    "### 3. How many of the resturants have online order and book table facility?"
   ]
  },
  {
   "cell_type": "code",
   "execution_count": 47,
   "id": "63f5a5a6",
   "metadata": {},
   "outputs": [
    {
     "name": "stderr",
     "output_type": "stream",
     "text": [
      "C:\\Users\\asus\\anaconda3\\lib\\site-packages\\seaborn\\_decorators.py:36: FutureWarning: Pass the following variable as a keyword arg: x. From version 0.12, the only valid positional argument will be `data`, and passing other arguments without an explicit keyword will result in an error or misinterpretation.\n",
      "  warnings.warn(\n",
      "C:\\Users\\asus\\anaconda3\\lib\\site-packages\\seaborn\\_decorators.py:36: FutureWarning: Pass the following variable as a keyword arg: x. From version 0.12, the only valid positional argument will be `data`, and passing other arguments without an explicit keyword will result in an error or misinterpretation.\n",
      "  warnings.warn(\n"
     ]
    },
    {
     "data": {
      "text/plain": [
       "<AxesSubplot:xlabel='book_table', ylabel='count'>"
      ]
     },
     "execution_count": 47,
     "metadata": {},
     "output_type": "execute_result"
    },
    {
     "data": {
      "image/png": "[encoded data removed]",
      "text/plain": [
       "<Figure size 360x360 with 1 Axes>"
      ]
     },
     "metadata": {
      "needs_background": "light"
     },
     "output_type": "display_data"
    },
    {
     "data": {
      "image/png": "[encoded data removed]",
      "text/plain": [
       "<Figure size 360x360 with 1 Axes>"
      ]
     },
     "metadata": {
      "needs_background": "light"
     },
     "output_type": "display_data"
    }
   ],
   "source": [
    "plt.figure(figsize = (5,5))\n",
    "sns.countplot(df['online_order'])\n",
    "plt.figure(figsize = (5,5))\n",
    "sns.countplot(df['book_table'])"
   ]
  },
  {
   "cell_type": "markdown",
   "id": "8d448297",
   "metadata": {},
   "source": [
    "**Result: Most of the restaurants provide the facility of online order but very few support booking a table.**\n",
    "\n",
    "### 4. Does having an online-order facility or book-table facility affect the ratings?"
   ]
  },
  {
   "cell_type": "code",
   "execution_count": 48,
   "id": "a94e389d",
   "metadata": {},
   "outputs": [
    {
     "data": {
      "text/plain": [
       "<AxesSubplot:xlabel='book_table', ylabel='rate'>"
      ]
     },
     "execution_count": 48,
     "metadata": {},
     "output_type": "execute_result"
    },
    {
     "data": {
      "image/png": "[encoded data removed]",
      "text/plain": [
       "<Figure size 360x360 with 1 Axes>"
      ]
     },
     "metadata": {
      "needs_background": "light"
     },
     "output_type": "display_data"
    },
    {
     "data": {
      "image/png": "[encoded data removed]",
      "text/plain": [
       "<Figure size 360x360 with 1 Axes>"
      ]
     },
     "metadata": {
      "needs_background": "light"
     },
     "output_type": "display_data"
    }
   ],
   "source": [
    "plt.figure(figsize = (5,5))\n",
    "sns.boxplot(x = 'online_order', y = 'rate', data = df)\n",
    "plt.figure(figsize = (5,5))\n",
    "sns.boxplot(x = 'book_table', y = 'rate', data = df)"
   ]
  },
  {
   "cell_type": "markdown",
   "id": "b8173a52",
   "metadata": {},
   "source": [
    "**Result: The average rating of restaurants with online-order facilities is more than those with no-online-order restaurants but the maximum and minimum rating is almost the same, whereas the average rating of restaurants with book-order facility is significantly higher than those with no-book table facility.**\n",
    "\n",
    "### 5. What is the best place to open an online-service restaurant?"
   ]
  },
  {
   "cell_type": "code",
   "execution_count": 49,
   "id": "12de0b49",
   "metadata": {},
   "outputs": [
    {
     "data": {
      "text/plain": [
       "<AxesSubplot:xlabel='location'>"
      ]
     },
     "execution_count": 49,
     "metadata": {},
     "output_type": "execute_result"
    },
    {
     "data": {
      "image/png": "[encoded data removed]",
      "text/plain": [
       "<Figure size 1080x720 with 1 Axes>"
      ]
     },
     "metadata": {
      "needs_background": "light"
     },
     "output_type": "display_data"
    }
   ],
   "source": [
    "df1 = df.groupby(['location', 'online_order'])['name'].count().reset_index()\n",
    "\n",
    "# Create a pivot table from the grouped data\n",
    "df1 = df1.pivot(index='location', columns='online_order', values='name').fillna(0)\n",
    "\n",
    "# Reset the index of the DataFrame\n",
    "df1.reset_index(inplace=True)\n",
    "\n",
    "df1.plot(kind = 'bar', figsize = (15,10), x='location')"
   ]
  },
  {
   "cell_type": "markdown",
   "id": "b48e3b06",
   "metadata": {},
   "source": [
    "**Result: We can observe here that Residency Road, Mg Road, and  Electronic City have lesser online-order facility restaurants and thus are a  potentialoptionsn for new online-order based restaurants.**\n",
    "\n",
    "### 6.  Which are the most common cuisine?\n",
    "# *Pandas functions*:"
   ]
  },
  {
   "cell_type": "code",
   "execution_count": 50,
   "id": "e1ffa75c",
   "metadata": {},
   "outputs": [
    {
     "data": {
      "text/plain": [
       "others                                              19370\n",
       "North Indian                                         1844\n",
       "North Indian, Chinese                                1518\n",
       "South Indian                                         1123\n",
       "Bakery, Desserts                                      581\n",
       "Biryani                                               544\n",
       "Cafe                                                  460\n",
       "South Indian, North Indian, Chinese                   454\n",
       "Fast Food                                             444\n",
       "Desserts                                              437\n",
       "Bakery                                                361\n",
       "Chinese                                               325\n",
       "Ice Cream, Desserts                                   300\n",
       "Mithai, Street Food                                   255\n",
       "Chinese, North Indian                                 246\n",
       "North Indian, Chinese, Biryani                        230\n",
       "Desserts, Ice Cream                                   214\n",
       "North Indian, South Indian                            210\n",
       "Finger Food                                           208\n",
       "North Indian, South Indian, Chinese                   200\n",
       "South Indian, North Indian                            193\n",
       "North Indian, Biryani                                 188\n",
       "Desserts, Beverages                                   180\n",
       "Street Food                                           176\n",
       "Biryani, Kebab                                        167\n",
       "Biryani, North Indian                                 166\n",
       "Chinese, Momos                                        159\n",
       "Beverages, Fast Food                                  156\n",
       "Cafe, Fast Food                                       156\n",
       "Beverages                                             152\n",
       "South Indian, Biryani                                 147\n",
       "Burger, Fast Food                                     143\n",
       "North Indian, Mughlai                                 139\n",
       "South Indian, North Indian, Chinese, Street Food      139\n",
       "South Indian, Chinese                                 137\n",
       "Desserts, Bakery                                      137\n",
       "Kerala                                                133\n",
       "Fast Food, Beverages                                  131\n",
       "Continental                                           127\n",
       "Ice Cream                                             123\n",
       "Pizza, Fast Food                                      120\n",
       "Bakery, Fast Food                                     120\n",
       "Cafe, Continental                                     119\n",
       "North Indian, Fast Food                               118\n",
       "Fast Food, Rolls                                      118\n",
       "Biryani, North Indian, Chinese                        118\n",
       "Chinese, Thai                                         115\n",
       "Andhra                                                111\n",
       "North Indian, Chinese, Fast Food                      111\n",
       "North Indian, Chinese, South Indian                   105\n",
       "Pizza                                                 103\n",
       "Name: cuisines, dtype: int64"
      ]
     },
     "execution_count": 50,
     "metadata": {},
     "output_type": "execute_result"
    }
   ],
   "source": [
    "df['cuisines'].value_counts()"
   ]
  },
  {
   "cell_type": "markdown",
   "id": "1799016e",
   "metadata": {},
   "source": [
    "**Result: As we can read, 'North Indian', 'North Indian, Chinese', and 'South Indian' are the most common cuisines.**\n",
    "\n",
    "### What type of resturrants have max ratings?"
   ]
  },
  {
   "cell_type": "code",
   "execution_count": 51,
   "id": "20b6300b",
   "metadata": {},
   "outputs": [
    {
     "data": {
      "text/plain": [
       "<AxesSubplot:xlabel='Type', ylabel='rate'>"
      ]
     },
     "execution_count": 51,
     "metadata": {},
     "output_type": "execute_result"
    },
    {
     "data": {
      "image/png": "[encoded data removed]",
      "text/plain": [
       "<Figure size 1008x576 with 1 Axes>"
      ]
     },
     "metadata": {
      "needs_background": "light"
     },
     "output_type": "display_data"
    }
   ],
   "source": [
    "plt.figure(figsize = (14, 8))\n",
    "sns.boxplot(x = 'Type', y = 'rate', data = df, palette = 'inferno')"
   ]
  },
  {
   "cell_type": "markdown",
   "id": "891f3d73",
   "metadata": {},
   "source": [
    "**Result: from the box-plot, we can observe that buffet, drinks & nightlife, and Pubs & Bars are mostly high rated.**\n",
    "\n",
    "### 8. In which cities people are more interested in voting?\n"
   ]
  },
  {
   "cell_type": "code",
   "execution_count": 52,
   "id": "48777fa7",
   "metadata": {},
   "outputs": [
    {
     "data": {
      "text/html": [
       "<div>\n",
       "<style scoped>\n",
       "    .dataframe tbody tr th:only-of-type {\n",
       "        vertical-align: middle;\n",
       "    }\n",
       "\n",
       "    .dataframe tbody tr th {\n",
       "        vertical-align: top;\n",
       "    }\n",
       "\n",
       "    .dataframe thead th {\n",
       "        text-align: right;\n",
       "    }\n",
       "</style>\n",
       "<table border=\"1\" class=\"dataframe\">\n",
       "  <thead>\n",
       "    <tr style=\"text-align: right;\">\n",
       "      <th></th>\n",
       "      <th>votes</th>\n",
       "    </tr>\n",
       "    <tr>\n",
       "      <th>location</th>\n",
       "      <th></th>\n",
       "    </tr>\n",
       "  </thead>\n",
       "  <tbody>\n",
       "    <tr>\n",
       "      <th>Koramangala 5th Block</th>\n",
       "      <td>1986085</td>\n",
       "    </tr>\n",
       "    <tr>\n",
       "      <th>others</th>\n",
       "      <td>1785507</td>\n",
       "    </tr>\n",
       "    <tr>\n",
       "      <th>Indiranagar</th>\n",
       "      <td>1149553</td>\n",
       "    </tr>\n",
       "    <tr>\n",
       "      <th>Koramangala 4th Block</th>\n",
       "      <td>591240</td>\n",
       "    </tr>\n",
       "    <tr>\n",
       "      <th>Church Street</th>\n",
       "      <td>555228</td>\n",
       "    </tr>\n",
       "    <tr>\n",
       "      <th>JP Nagar</th>\n",
       "      <td>487629</td>\n",
       "    </tr>\n",
       "    <tr>\n",
       "      <th>Whitefield</th>\n",
       "      <td>465068</td>\n",
       "    </tr>\n",
       "    <tr>\n",
       "      <th>Marathahalli</th>\n",
       "      <td>431349</td>\n",
       "    </tr>\n",
       "    <tr>\n",
       "      <th>HSR</th>\n",
       "      <td>430382</td>\n",
       "    </tr>\n",
       "    <tr>\n",
       "      <th>BTM</th>\n",
       "      <td>423646</td>\n",
       "    </tr>\n",
       "  </tbody>\n",
       "</table>\n",
       "</div>"
      ],
      "text/plain": [
       "                         votes\n",
       "location                      \n",
       "Koramangala 5th Block  1986085\n",
       "others                 1785507\n",
       "Indiranagar            1149553\n",
       "Koramangala 4th Block   591240\n",
       "Church Street           555228\n",
       "JP Nagar                487629\n",
       "Whitefield              465068\n",
       "Marathahalli            431349\n",
       "HSR                     430382\n",
       "BTM                     423646"
      ]
     },
     "execution_count": 52,
     "metadata": {},
     "output_type": "execute_result"
    }
   ],
   "source": [
    "df4 = df[['location', 'votes']]\n",
    "df4.drop_duplicates()\n",
    "df5 = df4.groupby(['location'])['votes'].sum()\n",
    "df5 = df5.to_frame()\n",
    "df5 = df5.sort_values('votes', ascending=False)\n",
    "df5.head(10)"
   ]
  },
  {
   "cell_type": "markdown",
   "id": "d0de22ab",
   "metadata": {},
   "source": [
    "**Result: From the table above, 'Koramangala 5th Block', 'Indiranagar', 'Koramangala 4th Block', and 'Church Street' are places where people give feedback and do participate more in voting and reviewing.**\n",
    "\n",
    "### 9. Is there a relationship between the number of votes a restaurant receives and its rating?\n"
   ]
  },
  {
   "cell_type": "code",
   "execution_count": 53,
   "id": "ef339c35",
   "metadata": {},
   "outputs": [
    {
     "data": {
      "image/png": "[encoded data removed]",
      "text/plain": [
       "<Figure size 576x432 with 1 Axes>"
      ]
     },
     "metadata": {
      "needs_background": "light"
     },
     "output_type": "display_data"
    }
   ],
   "source": [
    "# Create a scatter plot of 'votes' versus 'rate' using Seaborn\n",
    "plt.figure(figsize=(8, 6))\n",
    "sns.scatterplot(data=df, x='votes', y='rate', alpha=0.5)\n",
    "plt.xlabel('Votes')\n",
    "plt.ylabel('Rating')\n",
    "plt.title('Relationship between Votes and Rating')\n",
    "plt.show()"
   ]
  },
  {
   "cell_type": "markdown",
   "id": "2db89bb6",
   "metadata": {},
   "source": [
    "**Result: The relationship between 'rating' and 'votes' can be categorized as directly proportional as high-rated restaurants tend to get more votes.**\n",
    "\n",
    "### 10.  Is there a relationship between the average cost for two and the votes/ratings a restaurant receives?\n"
   ]
  },
  {
   "cell_type": "code",
   "execution_count": 54,
   "id": "c3baaceb",
   "metadata": {},
   "outputs": [
    {
     "data": {
      "image/png": "[encoded data removed]",
      "text/plain": [
       "<Figure size 576x432 with 1 Axes>"
      ]
     },
     "metadata": {
      "needs_background": "light"
     },
     "output_type": "display_data"
    },
    {
     "data": {
      "image/png": "[encoded data removed]",
      "text/plain": [
       "<Figure size 576x432 with 1 Axes>"
      ]
     },
     "metadata": {
      "needs_background": "light"
     },
     "output_type": "display_data"
    }
   ],
   "source": [
    "plt.figure(figsize=(8, 6))\n",
    "sns.scatterplot(data=df, x='Cost_two_plates', y='votes')\n",
    "plt.xlabel('Average Cost for Two')\n",
    "plt.ylabel('Votes')\n",
    "plt.title('Correlation between Average Cost for Two and Votes')\n",
    "plt.show()\n",
    "plt.figure(figsize=(8, 6))\n",
    "sns.scatterplot(data=df, x='Cost_two_plates', y='rate')\n",
    "plt.xlabel('Average Cost for Two')\n",
    "plt.ylabel('Ratings')\n",
    "plt.title('Correlation between Average Cost for Two and Rating')\n",
    "plt.show()\n"
   ]
  },
  {
   "cell_type": "markdown",
   "id": "4dbef797",
   "metadata": {},
   "source": [
    "**Result: As we can observe, the restaurants with Average cost of two between 1000-2000 tend to get most votes while with Average cost of two between >2000, the restaurants receive high ratings**"
   ]
  },
  {
   "cell_type": "markdown",
   "id": "ca74a182",
   "metadata": {},
   "source": [
    "# In Summary:\n",
    "\n",
    "- The average rating of restaurants is around 3.7/5, while the average cost for two plates is around INR 600.\n",
    "- Location BTM has the highest number of restaurants while on the other hand, Kammanahalli has relatively limited dining options the area with the least number of restaurants, suggesting \n",
    "- Most restaurants service online ordering, indicating how popularity and convenience of ordering food online. \n",
    "- Restaurant numbers supporting table booking are relatively very low, suggesting a potential area for improvement in the industry.\n",
    "- Restaurants with online order and table booking facilities tend to have slightly higher average ratings compared to those without. \n",
    "- Locations such as Residency Road, MG Road, and Electronic City have fewer online-order facility restaurants, so these areas may present opportunities for new online-order-based restaurants.\n",
    "- North Indian food is the most common among the restaurants, followed by North Indian and Chinese, and South Indian cuisines.\n",
    "- Buffets, drinks & nightlife, and pubs & bars type restaurants tend to receive higher ratings than other types.\n",
    "- High-rated restaurants tend to attract more votes, indicating a correlation between customer satisfaction and engagement.\n",
    "- Restaurants with an average cost for two plates between INR 1000-2000 rupees tend to receive higher votes while restaurants with those above 2000 rupees tend to receive only high ratings suggesting there might be a perceived value-for-money aspect influencing the ratings and voting.\n"
   ]
  },
  {
   "cell_type": "code",
   "execution_count": null,
   "id": "d5962b3b",
   "metadata": {},
   "outputs": [],
   "source": []
  },
  {
   "cell_type": "code",
   "execution_count": null,
   "id": "8a82c360",
   "metadata": {},
   "outputs": [],
   "source": []
  },
  {
   "cell_type": "code",
   "execution_count": null,
   "id": "9c62cdfa",
   "metadata": {},
   "outputs": [],
   "source": []
  },
  {
   "cell_type": "code",
   "execution_count": null,
   "id": "dfe76b72",
   "metadata": {},
   "outputs": [],
   "source": []
  },
  {
   "cell_type": "code",
   "execution_count": null,
   "id": "2270dbe6",
   "metadata": {},
   "outputs": [],
   "source": []
  },
  {
   "cell_type": "code",
   "execution_count": null,
   "id": "9bfa9ded",
   "metadata": {},
   "outputs": [],
   "source": []
  },
  {
   "cell_type": "code",
   "execution_count": null,
   "id": "35f49c0c",
   "metadata": {},
   "outputs": [],
   "source": []
  },
  {
   "cell_type": "code",
   "execution_count": null,
   "id": "f45b0ea6",
   "metadata": {},
   "outputs": [],
   "source": []
  },
  {
   "cell_type": "code",
   "execution_count": null,
   "id": "d11301e8",
   "metadata": {},
   "outputs": [],
   "source": []
  },
  {
   "cell_type": "code",
   "execution_count": null,
   "id": "f6925286",
   "metadata": {},
   "outputs": [],
   "source": []
  },
  {
   "cell_type": "code",
   "execution_count": null,
   "id": "c160651c",
   "metadata": {},
   "outputs": [],
   "source": []
  },
  {
   "cell_type": "code",
   "execution_count": null,
   "id": "06856245",
   "metadata": {},
   "outputs": [],
   "source": []
  },
  {
   "cell_type": "code",
   "execution_count": null,
   "id": "50b22149",
   "metadata": {},
   "outputs": [],
   "source": []
  },
  {
   "cell_type": "code",
   "execution_count": null,
   "id": "ab9c84d4",
   "metadata": {},
   "outputs": [],
   "source": []
  },
  {
   "cell_type": "code",
   "execution_count": null,
   "id": "6ea0144f",
   "metadata": {},
   "outputs": [],
   "source": []
  },
  {
   "cell_type": "code",
   "execution_count": null,
   "id": "7a17e803",
   "metadata": {},
   "outputs": [],
   "source": []
  },
  {
   "cell_type": "code",
   "execution_count": null,
   "id": "fc0068ca",
   "metadata": {},
   "outputs": [],
   "source": []
  },
  {
   "cell_type": "code",
   "execution_count": null,
   "id": "5fbefcaf",
   "metadata": {},
   "outputs": [],
   "source": []
  },
  {
   "cell_type": "code",
   "execution_count": null,
   "id": "c2f54b61",
   "metadata": {},
   "outputs": [],
   "source": []
  }
 ],
 "metadata": {
  "kernelspec": {
   "display_name": "Python 3 (ipykernel)",
   "language": "python",
   "name": "python3"
  },
  "language_info": {
   "codemirror_mode": {
    "name": "ipython",
    "version": 3
   },
   "file_extension": ".py",
   "mimetype": "text/x-python",
   "name": "python",
   "nbconvert_exporter": "python",
   "pygments_lexer": "ipython3",
   "version": "3.10.12"
  }
 },
 "nbformat": 4,
 "nbformat_minor": 5
}
